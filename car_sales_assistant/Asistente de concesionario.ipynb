{
 "cells": [
  {
   "cell_type": "markdown",
   "metadata": {},
   "source": [
    "## Datasets para el reto: Asistente de concesionario"
   ]
  },
  {
   "cell_type": "markdown",
   "metadata": {},
   "source": [
    "\n",
    "Queremos que el asistente nos ayude a decidir si el coche es aceptable o no para comprar.\n",
    "\n",
    "Distribución de las clases (número de ejemplos u observaciones por clase)\n",
    "\n",
    "   \n",
    "   + unacc          1210     (70.023 %) --> no aceptable 0\n",
    "   + acc            518     (29.997 %) --> aceptable 1\n",
    "  "
   ]
  },
  {
   "cell_type": "code",
   "execution_count": 22,
   "metadata": {},
   "outputs": [],
   "source": [
    "import pandas as pd\n",
    "\n",
    "df = pd.read_csv(r'C:\\Users\\Usuario\\Documents\\AI Deep Learning\\Reto\\Datasets\\car.data', \n",
    "                 header=None, names=['buying', 'maint', 'doors', 'persons', \n",
    "                                     'lug_boot', 'safety','decision'])\n",
    "\n"
   ]
  },
  {
   "cell_type": "code",
   "execution_count": 23,
   "metadata": {},
   "outputs": [
    {
     "data": {
      "text/html": [
       "<div>\n",
       "<style scoped>\n",
       "    .dataframe tbody tr th:only-of-type {\n",
       "        vertical-align: middle;\n",
       "    }\n",
       "\n",
       "    .dataframe tbody tr th {\n",
       "        vertical-align: top;\n",
       "    }\n",
       "\n",
       "    .dataframe thead th {\n",
       "        text-align: right;\n",
       "    }\n",
       "</style>\n",
       "<table border=\"1\" class=\"dataframe\">\n",
       "  <thead>\n",
       "    <tr style=\"text-align: right;\">\n",
       "      <th></th>\n",
       "      <th>buying</th>\n",
       "      <th>maint</th>\n",
       "      <th>doors</th>\n",
       "      <th>persons</th>\n",
       "      <th>lug_boot</th>\n",
       "      <th>safety</th>\n",
       "      <th>decision</th>\n",
       "    </tr>\n",
       "  </thead>\n",
       "  <tbody>\n",
       "    <tr>\n",
       "      <td>0</td>\n",
       "      <td>vhigh</td>\n",
       "      <td>vhigh</td>\n",
       "      <td>2</td>\n",
       "      <td>2</td>\n",
       "      <td>small</td>\n",
       "      <td>low</td>\n",
       "      <td>unacc</td>\n",
       "    </tr>\n",
       "    <tr>\n",
       "      <td>1</td>\n",
       "      <td>vhigh</td>\n",
       "      <td>vhigh</td>\n",
       "      <td>2</td>\n",
       "      <td>2</td>\n",
       "      <td>small</td>\n",
       "      <td>med</td>\n",
       "      <td>unacc</td>\n",
       "    </tr>\n",
       "    <tr>\n",
       "      <td>2</td>\n",
       "      <td>vhigh</td>\n",
       "      <td>vhigh</td>\n",
       "      <td>2</td>\n",
       "      <td>2</td>\n",
       "      <td>small</td>\n",
       "      <td>high</td>\n",
       "      <td>unacc</td>\n",
       "    </tr>\n",
       "    <tr>\n",
       "      <td>3</td>\n",
       "      <td>vhigh</td>\n",
       "      <td>vhigh</td>\n",
       "      <td>2</td>\n",
       "      <td>2</td>\n",
       "      <td>med</td>\n",
       "      <td>low</td>\n",
       "      <td>unacc</td>\n",
       "    </tr>\n",
       "    <tr>\n",
       "      <td>4</td>\n",
       "      <td>vhigh</td>\n",
       "      <td>vhigh</td>\n",
       "      <td>2</td>\n",
       "      <td>2</td>\n",
       "      <td>med</td>\n",
       "      <td>med</td>\n",
       "      <td>unacc</td>\n",
       "    </tr>\n",
       "  </tbody>\n",
       "</table>\n",
       "</div>"
      ],
      "text/plain": [
       "  buying  maint doors persons lug_boot safety decision\n",
       "0  vhigh  vhigh     2       2    small    low    unacc\n",
       "1  vhigh  vhigh     2       2    small    med    unacc\n",
       "2  vhigh  vhigh     2       2    small   high    unacc\n",
       "3  vhigh  vhigh     2       2      med    low    unacc\n",
       "4  vhigh  vhigh     2       2      med    med    unacc"
      ]
     },
     "execution_count": 23,
     "metadata": {},
     "output_type": "execute_result"
    }
   ],
   "source": [
    "df.head()"
   ]
  },
  {
   "cell_type": "markdown",
   "metadata": {},
   "source": [
    "## Consejos"
   ]
  },
  {
   "cell_type": "markdown",
   "metadata": {},
   "source": [
    "Cambiar todas las variables no numéricas (categóricas) a números: \n",
    "\n",
    "+ buying (buying price): vhigh (4), high (3), med (2), low (1)\n",
    "+ main (maintenance price): vhigh (4), high (3), med (2), low (1)\n",
    "+ doors (number of doors): 2, 3, 4, 5-more (5)\n",
    "+ persons (number of passengers fit in a car): 2, 4, more (6)\n",
    "+ lug_boot (size of luggage capacity): small (1), med (2), big (3)\n",
    "+ safety: low (1), med (2), high (3)\n",
    "+ values: unacc = unaccepted, acc = accepted\n",
    "+ eliminar filas que tengan algún valor vacío o rellenarlas con el valor más común"
   ]
  },
  {
   "cell_type": "code",
   "execution_count": 24,
   "metadata": {},
   "outputs": [
    {
     "name": "stdout",
     "output_type": "stream",
     "text": [
      "   buying  maint doors persons  lug_boot  safety decision\n",
      "0       4      4     2       2         1       1    unacc\n",
      "1       4      4     2       2         1       2    unacc\n",
      "2       4      4     2       2         1       3    unacc\n",
      "3       4      4     2       2         2       1    unacc\n",
      "4       4      4     2       2         2       2    unacc\n"
     ]
    }
   ],
   "source": [
    "df.replace(['low', 'med', 'high', 'vhigh', '5more', 'more', 'low', 'big', 'small'], \n",
    "                     [1, 2, 3, 4, 5, 6, 1, 3, 1], inplace=True)\n",
    "\n",
    "print(df.head())"
   ]
  },
  {
   "cell_type": "markdown",
   "metadata": {},
   "source": [
    "¿Qué modelo podemos usar? Tenemos muchas opciones, una de ellas es:"
   ]
  },
  {
   "cell_type": "markdown",
   "metadata": {},
   "source": [
    "+ dividir el dataframe en training y test, podemos usar el método train_test_split de sklearn "
   ]
  },
  {
   "cell_type": "code",
   "execution_count": 25,
   "metadata": {},
   "outputs": [],
   "source": [
    "from sklearn.tree import DecisionTreeClassifier\n",
    "from sklearn.model_selection import train_test_split\n",
    "\n",
    "\n",
    "#Dividimos entre training y test\n",
    "\n",
    "y = df['decision']\n",
    "df.drop('decision', axis=1, inplace=True)\n",
    "X = df\n",
    "X_train, X_test, y_train, y_test = train_test_split(X, y, test_size=0.4, random_state=0)"
   ]
  },
  {
   "cell_type": "markdown",
   "metadata": {},
   "source": [
    "+ entrenar el modelo según la documentación que podemos encontrar en sklearn (función fit)"
   ]
  },
  {
   "cell_type": "code",
   "execution_count": 28,
   "metadata": {},
   "outputs": [
    {
     "name": "stdout",
     "output_type": "stream",
     "text": [
      "-->  Accuracy del entrenamiento: 0.978 +/- 0.016\n"
     ]
    }
   ],
   "source": [
    "import numpy as np\n",
    "from sklearn.pipeline import Pipeline\n",
    "from sklearn.svm import SVC\n",
    "from sklearn.preprocessing import StandardScaler\n",
    "from sklearn.decomposition import PCA\n",
    "from sklearn.model_selection import cross_val_score\n",
    "from sklearn.model_selection import GridSearchCV\n",
    "\n",
    "# Vamos a probar el clasificador Support Vector Machine\n",
    "\n",
    "\n",
    "pipeline_svc = Pipeline([('scl', StandardScaler()),\n",
    "                     ('clf', SVC(random_state=1))])\n",
    "\n",
    "\n",
    "#Entrenamos el pipeline con los datos\n",
    "\n",
    "pipeline_svc.fit(X_train, y_train)\n",
    "\n",
    "scores = cross_val_score(estimator=pipeline_svc,\n",
    "                         X=X_train,\n",
    "                         y=y_train,\n",
    "                         cv=10,\n",
    "                         n_jobs=1)\n",
    "\n",
    "print('-->  Accuracy del entrenamiento: %.3f +/- %.3f' %(np.mean(scores), np.std(scores)))"
   ]
  },
  {
   "cell_type": "markdown",
   "metadata": {},
   "source": [
    "+ probar cómo de bueno es el modelo con nuestros datos de test (predict)"
   ]
  },
  {
   "cell_type": "code",
   "execution_count": 20,
   "metadata": {},
   "outputs": [],
   "source": [
    "from sklearn.cluster import KMeans\n",
    "import pickle\n",
    "\n",
    "#Guradamos el modelo SVM\n",
    "filename = 'svc_concessionaire_assistant_model.sav'\n",
    "pickle.dump(pipeline_svc, open(filename, 'wb'))\n"
   ]
  },
  {
   "cell_type": "markdown",
   "metadata": {},
   "source": [
    "+ guardar el modelo conla librería pickle "
   ]
  },
  {
   "cell_type": "markdown",
   "metadata": {},
   "source": [
    "+ crear una app basada en las demos que vimos para importar el modelo y predecir si el coche es aceptable o no"
   ]
  },
  {
   "cell_type": "code",
   "execution_count": null,
   "metadata": {},
   "outputs": [],
   "source": [
    "    "
   ]
  }
 ],
 "metadata": {
  "kernelspec": {
   "display_name": "Python 3",
   "language": "python",
   "name": "python3"
  },
  "language_info": {
   "codemirror_mode": {
    "name": "ipython",
    "version": 3
   },
   "file_extension": ".py",
   "mimetype": "text/x-python",
   "name": "python",
   "nbconvert_exporter": "python",
   "pygments_lexer": "ipython3",
   "version": "3.7.4"
  }
 },
 "nbformat": 4,
 "nbformat_minor": 2
}
